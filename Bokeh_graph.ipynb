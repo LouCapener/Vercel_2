{
 "cells": [
  {
   "cell_type": "markdown",
   "id": "4aada0fd",
   "metadata": {},
   "source": [
    "# Import libraries"
   ]
  },
  {
   "cell_type": "code",
   "execution_count": 16,
   "id": "abe68bd5",
   "metadata": {},
   "outputs": [],
   "source": [
    "# used to read-in and manipulate dataframes\n",
    "\n",
    "import pandas as pd\n",
    "\n",
    "# used to construct bokeh DataTable\n",
    "from bokeh.models import ColumnDataSource\n",
    "from bokeh.models.widgets import DataTable, TableColumn\n",
    "from bokeh.plotting import show\n",
    "from bokeh.plotting import output_file, save"
   ]
  },
  {
   "cell_type": "markdown",
   "id": "12245644",
   "metadata": {},
   "source": [
    "# Read-in data"
   ]
  },
  {
   "cell_type": "code",
   "execution_count": 2,
   "id": "2c02e65d",
   "metadata": {},
   "outputs": [],
   "source": [
    "# Read-in data\n",
    "\n",
    "df = pd.read_csv('Data/rel_nr_totals_gi.csv')"
   ]
  },
  {
   "cell_type": "code",
   "execution_count": 3,
   "id": "bb44f36c",
   "metadata": {},
   "outputs": [
    {
     "data": {
      "text/html": [
       "<div>\n",
       "<style scoped>\n",
       "    .dataframe tbody tr th:only-of-type {\n",
       "        vertical-align: middle;\n",
       "    }\n",
       "\n",
       "    .dataframe tbody tr th {\n",
       "        vertical-align: top;\n",
       "    }\n",
       "\n",
       "    .dataframe thead th {\n",
       "        text-align: right;\n",
       "    }\n",
       "</style>\n",
       "<table border=\"1\" class=\"dataframe\">\n",
       "  <thead>\n",
       "    <tr style=\"text-align: right;\">\n",
       "      <th></th>\n",
       "      <th>Religion_categories</th>\n",
       "      <th>Observation</th>\n",
       "      <th>NR_rate</th>\n",
       "      <th>Per_Total</th>\n",
       "    </tr>\n",
       "  </thead>\n",
       "  <tbody>\n",
       "    <tr>\n",
       "      <th>0</th>\n",
       "      <td>Buddhist</td>\n",
       "      <td>13357</td>\n",
       "      <td>5.44</td>\n",
       "      <td>0.78</td>\n",
       "    </tr>\n",
       "    <tr>\n",
       "      <th>1</th>\n",
       "      <td>Christian</td>\n",
       "      <td>828427</td>\n",
       "      <td>3.50</td>\n",
       "      <td>48.23</td>\n",
       "    </tr>\n",
       "    <tr>\n",
       "      <th>2</th>\n",
       "      <td>Hindu</td>\n",
       "      <td>48922</td>\n",
       "      <td>5.94</td>\n",
       "      <td>2.85</td>\n",
       "    </tr>\n",
       "    <tr>\n",
       "      <th>3</th>\n",
       "      <td>Jewish</td>\n",
       "      <td>12237</td>\n",
       "      <td>5.73</td>\n",
       "      <td>0.71</td>\n",
       "    </tr>\n",
       "    <tr>\n",
       "      <th>4</th>\n",
       "      <td>Muslim</td>\n",
       "      <td>208718</td>\n",
       "      <td>7.83</td>\n",
       "      <td>12.15</td>\n",
       "    </tr>\n",
       "    <tr>\n",
       "      <th>5</th>\n",
       "      <td>No religion</td>\n",
       "      <td>558727</td>\n",
       "      <td>3.22</td>\n",
       "      <td>32.53</td>\n",
       "    </tr>\n",
       "    <tr>\n",
       "      <th>6</th>\n",
       "      <td>Other religion</td>\n",
       "      <td>24268</td>\n",
       "      <td>7.71</td>\n",
       "      <td>1.41</td>\n",
       "    </tr>\n",
       "    <tr>\n",
       "      <th>7</th>\n",
       "      <td>Sikh</td>\n",
       "      <td>23114</td>\n",
       "      <td>5.55</td>\n",
       "      <td>1.35</td>\n",
       "    </tr>\n",
       "  </tbody>\n",
       "</table>\n",
       "</div>"
      ],
      "text/plain": [
       "  Religion_categories  Observation  NR_rate  Per_Total\n",
       "0            Buddhist        13357     5.44       0.78\n",
       "1           Christian       828427     3.50      48.23\n",
       "2               Hindu        48922     5.94       2.85\n",
       "3              Jewish        12237     5.73       0.71\n",
       "4              Muslim       208718     7.83      12.15\n",
       "5         No religion       558727     3.22      32.53\n",
       "6      Other religion        24268     7.71       1.41\n",
       "7                Sikh        23114     5.55       1.35"
      ]
     },
     "execution_count": 3,
     "metadata": {},
     "output_type": "execute_result"
    }
   ],
   "source": [
    "# Check out df\n",
    "\n",
    "df"
   ]
  },
  {
   "cell_type": "markdown",
   "id": "b25742e1",
   "metadata": {},
   "source": [
    "# Construct Bokeh DataTable from df\n",
    "\n",
    "To keep things simple, I'm only going to include the religion categories and the non-response columns in my DataTable. After all, this is merely a reading comprehension question."
   ]
  },
  {
   "cell_type": "code",
   "execution_count": 13,
   "id": "2efa2d5b",
   "metadata": {},
   "outputs": [],
   "source": [
    "# First we will assign a source to our ColumnDataSource\n",
    "\n",
    "source = ColumnDataSource(df)\n",
    "\n",
    "# Initialise columns as a list of TableColumn's where we assign individual fields and titles\n",
    "columns = [\n",
    "    TableColumn(field=\"Religion_categories\", title=\"Religion\"),\n",
    "    TableColumn(field=\"NR_rate\", title=\"Non response rate\"),\n",
    "]\n",
    "\n",
    "# Aaaaand finally, let's bring it all together in a DataTable objecy\n",
    "data_table1 = DataTable(source=source, columns=columns, editable=False, width=500, index_position=None)"
   ]
  },
  {
   "cell_type": "code",
   "execution_count": 14,
   "id": "29d8afef",
   "metadata": {},
   "outputs": [],
   "source": [
    "# Let's check it out.\n",
    "\n",
    "show(data_table1)"
   ]
  },
  {
   "cell_type": "markdown",
   "id": "91ad06d7",
   "metadata": {},
   "source": [
    "# Create Bokeh HTML output file"
   ]
  },
  {
   "cell_type": "code",
   "execution_count": 19,
   "id": "6c4abc09",
   "metadata": {},
   "outputs": [
    {
     "data": {
      "text/plain": [
       "'/Users/loucap/Documents/GitWork/Vercel_2/index.html'"
      ]
     },
     "execution_count": 19,
     "metadata": {},
     "output_type": "execute_result"
    }
   ],
   "source": [
    "output_file(\"/Users/loucap/Documents/GitWork/Vercel_2/index.html\")\n",
    "save(data_table1)"
   ]
  }
 ],
 "metadata": {
  "kernelspec": {
   "display_name": "Python 3 (ipykernel)",
   "language": "python",
   "name": "python3"
  },
  "language_info": {
   "codemirror_mode": {
    "name": "ipython",
    "version": 3
   },
   "file_extension": ".py",
   "mimetype": "text/x-python",
   "name": "python",
   "nbconvert_exporter": "python",
   "pygments_lexer": "ipython3",
   "version": "3.9.16"
  },
  "toc": {
   "base_numbering": 1,
   "nav_menu": {},
   "number_sections": true,
   "sideBar": true,
   "skip_h1_title": false,
   "title_cell": "Table of Contents",
   "title_sidebar": "Contents",
   "toc_cell": false,
   "toc_position": {},
   "toc_section_display": true,
   "toc_window_display": true
  },
  "varInspector": {
   "cols": {
    "lenName": 16,
    "lenType": 16,
    "lenVar": 40
   },
   "kernels_config": {
    "python": {
     "delete_cmd_postfix": "",
     "delete_cmd_prefix": "del ",
     "library": "var_list.py",
     "varRefreshCmd": "print(var_dic_list())"
    },
    "r": {
     "delete_cmd_postfix": ") ",
     "delete_cmd_prefix": "rm(",
     "library": "var_list.r",
     "varRefreshCmd": "cat(var_dic_list()) "
    }
   },
   "types_to_exclude": [
    "module",
    "function",
    "builtin_function_or_method",
    "instance",
    "_Feature"
   ],
   "window_display": false
  }
 },
 "nbformat": 4,
 "nbformat_minor": 5
}
