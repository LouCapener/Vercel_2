{
 "cells": [
  {
   "cell_type": "markdown",
   "id": "0b794a48",
   "metadata": {},
   "source": [
    "# Import libraries"
   ]
  },
  {
   "cell_type": "code",
   "execution_count": 1,
   "id": "d4293c01",
   "metadata": {},
   "outputs": [
    {
     "name": "stdout",
     "output_type": "stream",
     "text": [
      "Intel MKL WARNING: Support of Intel(R) Streaming SIMD Extensions 4.2 (Intel(R) SSE4.2) enabled only processors has been deprecated. Intel oneAPI Math Kernel Library 2025.0 will require Intel(R) Advanced Vector Extensions (Intel(R) AVX) instructions.\n",
      "Intel MKL WARNING: Support of Intel(R) Streaming SIMD Extensions 4.2 (Intel(R) SSE4.2) enabled only processors has been deprecated. Intel oneAPI Math Kernel Library 2025.0 will require Intel(R) Advanced Vector Extensions (Intel(R) AVX) instructions.\n"
     ]
    }
   ],
   "source": [
    "# used to read-in and manipulate dataframes\n",
    "\n",
    "import pandas as pd\n",
    "\n",
    "# used to construct bokeh DataTable\n",
    "from bokeh.models import ColumnDataSource\n",
    "from bokeh.models.widgets import DataTable, TableColumn\n",
    "from bokeh.plotting import show\n",
    "from bokeh.plotting import output_file, save"
   ]
  },
  {
   "cell_type": "markdown",
   "id": "48c7f514",
   "metadata": {},
   "source": [
    "# Read-in data"
   ]
  },
  {
   "cell_type": "code",
   "execution_count": 2,
   "id": "00e4044e",
   "metadata": {},
   "outputs": [],
   "source": [
    "# Read-in data\n",
    "\n",
    "df = pd.read_csv('Data/rel_nr_totals_gi.csv')"
   ]
  },
  {
   "cell_type": "code",
   "execution_count": 3,
   "id": "33e28570",
   "metadata": {},
   "outputs": [
    {
     "data": {
      "text/html": [
       "<div>\n",
       "<style scoped>\n",
       "    .dataframe tbody tr th:only-of-type {\n",
       "        vertical-align: middle;\n",
       "    }\n",
       "\n",
       "    .dataframe tbody tr th {\n",
       "        vertical-align: top;\n",
       "    }\n",
       "\n",
       "    .dataframe thead th {\n",
       "        text-align: right;\n",
       "    }\n",
       "</style>\n",
       "<table border=\"1\" class=\"dataframe\">\n",
       "  <thead>\n",
       "    <tr style=\"text-align: right;\">\n",
       "      <th></th>\n",
       "      <th>Religion_categories</th>\n",
       "      <th>Observation</th>\n",
       "      <th>NR_rate</th>\n",
       "      <th>Per_Total</th>\n",
       "    </tr>\n",
       "  </thead>\n",
       "  <tbody>\n",
       "    <tr>\n",
       "      <th>0</th>\n",
       "      <td>Buddhist</td>\n",
       "      <td>13357</td>\n",
       "      <td>5.44</td>\n",
       "      <td>0.78</td>\n",
       "    </tr>\n",
       "    <tr>\n",
       "      <th>1</th>\n",
       "      <td>Christian</td>\n",
       "      <td>828427</td>\n",
       "      <td>3.50</td>\n",
       "      <td>48.23</td>\n",
       "    </tr>\n",
       "    <tr>\n",
       "      <th>2</th>\n",
       "      <td>Hindu</td>\n",
       "      <td>48922</td>\n",
       "      <td>5.94</td>\n",
       "      <td>2.85</td>\n",
       "    </tr>\n",
       "    <tr>\n",
       "      <th>3</th>\n",
       "      <td>Jewish</td>\n",
       "      <td>12237</td>\n",
       "      <td>5.73</td>\n",
       "      <td>0.71</td>\n",
       "    </tr>\n",
       "    <tr>\n",
       "      <th>4</th>\n",
       "      <td>Muslim</td>\n",
       "      <td>208718</td>\n",
       "      <td>7.83</td>\n",
       "      <td>12.15</td>\n",
       "    </tr>\n",
       "    <tr>\n",
       "      <th>5</th>\n",
       "      <td>No religion</td>\n",
       "      <td>558727</td>\n",
       "      <td>3.22</td>\n",
       "      <td>32.53</td>\n",
       "    </tr>\n",
       "    <tr>\n",
       "      <th>6</th>\n",
       "      <td>Other religion</td>\n",
       "      <td>24268</td>\n",
       "      <td>7.71</td>\n",
       "      <td>1.41</td>\n",
       "    </tr>\n",
       "    <tr>\n",
       "      <th>7</th>\n",
       "      <td>Sikh</td>\n",
       "      <td>23114</td>\n",
       "      <td>5.55</td>\n",
       "      <td>1.35</td>\n",
       "    </tr>\n",
       "  </tbody>\n",
       "</table>\n",
       "</div>"
      ],
      "text/plain": [
       "  Religion_categories  Observation  NR_rate  Per_Total\n",
       "0            Buddhist        13357     5.44       0.78\n",
       "1           Christian       828427     3.50      48.23\n",
       "2               Hindu        48922     5.94       2.85\n",
       "3              Jewish        12237     5.73       0.71\n",
       "4              Muslim       208718     7.83      12.15\n",
       "5         No religion       558727     3.22      32.53\n",
       "6      Other religion        24268     7.71       1.41\n",
       "7                Sikh        23114     5.55       1.35"
      ]
     },
     "execution_count": 3,
     "metadata": {},
     "output_type": "execute_result"
    }
   ],
   "source": [
    "# Check out df\n",
    "\n",
    "df"
   ]
  },
  {
   "cell_type": "code",
   "execution_count": 4,
   "id": "f3155ea4",
   "metadata": {},
   "outputs": [
    {
     "data": {
      "text/html": [
       "<div>\n",
       "<style scoped>\n",
       "    .dataframe tbody tr th:only-of-type {\n",
       "        vertical-align: middle;\n",
       "    }\n",
       "\n",
       "    .dataframe tbody tr th {\n",
       "        vertical-align: top;\n",
       "    }\n",
       "\n",
       "    .dataframe thead th {\n",
       "        text-align: right;\n",
       "    }\n",
       "</style>\n",
       "<table border=\"1\" class=\"dataframe\">\n",
       "  <thead>\n",
       "    <tr style=\"text-align: right;\">\n",
       "      <th></th>\n",
       "      <th>Religion_categories</th>\n",
       "      <th>NR_rate</th>\n",
       "    </tr>\n",
       "  </thead>\n",
       "  <tbody>\n",
       "    <tr>\n",
       "      <th>0</th>\n",
       "      <td>Buddhist</td>\n",
       "      <td>5.44</td>\n",
       "    </tr>\n",
       "    <tr>\n",
       "      <th>1</th>\n",
       "      <td>Christian</td>\n",
       "      <td>3.50</td>\n",
       "    </tr>\n",
       "    <tr>\n",
       "      <th>2</th>\n",
       "      <td>Hindu</td>\n",
       "      <td>5.94</td>\n",
       "    </tr>\n",
       "    <tr>\n",
       "      <th>3</th>\n",
       "      <td>Jewish</td>\n",
       "      <td>5.73</td>\n",
       "    </tr>\n",
       "    <tr>\n",
       "      <th>4</th>\n",
       "      <td>Muslim</td>\n",
       "      <td>7.83</td>\n",
       "    </tr>\n",
       "    <tr>\n",
       "      <th>5</th>\n",
       "      <td>No religion</td>\n",
       "      <td>3.22</td>\n",
       "    </tr>\n",
       "    <tr>\n",
       "      <th>6</th>\n",
       "      <td>Other religion</td>\n",
       "      <td>7.71</td>\n",
       "    </tr>\n",
       "    <tr>\n",
       "      <th>7</th>\n",
       "      <td>Sikh</td>\n",
       "      <td>5.55</td>\n",
       "    </tr>\n",
       "  </tbody>\n",
       "</table>\n",
       "</div>"
      ],
      "text/plain": [
       "  Religion_categories  NR_rate\n",
       "0            Buddhist     5.44\n",
       "1           Christian     3.50\n",
       "2               Hindu     5.94\n",
       "3              Jewish     5.73\n",
       "4              Muslim     7.83\n",
       "5         No religion     3.22\n",
       "6      Other religion     7.71\n",
       "7                Sikh     5.55"
      ]
     },
     "execution_count": 4,
     "metadata": {},
     "output_type": "execute_result"
    }
   ],
   "source": [
    "df.drop(columns=['Observation', 'Per_Total'])"
   ]
  },
  {
   "cell_type": "markdown",
   "id": "ce8f06a9",
   "metadata": {},
   "source": [
    "# Construct Bokeh DataTable from df\n",
    "\n",
    "To keep things simple, I'm only going to include the religion categories and the non-response columns in my DataTable. After all, this is merely a reading comprehension question."
   ]
  },
  {
   "cell_type": "code",
   "execution_count": 5,
   "id": "f2ded32a",
   "metadata": {},
   "outputs": [],
   "source": [
    "# First we will assign a source to our ColumnDataSource\n",
    "\n",
    "source = ColumnDataSource(df)\n",
    "\n",
    "# Initialise columns as a list of TableColumn's where we assign individual fields and titles\n",
    "columns = [\n",
    "    TableColumn(field=\"Religion_categories\", title=\"Religion\"),\n",
    "    TableColumn(field=\"NR_rate\", title=\"Non response rate\"),\n",
    "]\n",
    "\n",
    "# Aaaaand finally, let's bring it all together in a DataTable objecy\n",
    "data_table1 = DataTable(source=source, columns=columns, editable=False, width=500, index_position=None)"
   ]
  },
  {
   "cell_type": "code",
   "execution_count": 6,
   "id": "c3f274ca",
   "metadata": {},
   "outputs": [],
   "source": [
    "# Let's check it out.\n",
    "\n",
    "show(data_table1)"
   ]
  },
  {
   "cell_type": "code",
   "execution_count": 8,
   "id": "9c090b78-337b-4cba-bb87-de002d2758d3",
   "metadata": {},
   "outputs": [
    {
     "data": {
      "text/plain": [
       "'/Users/loucap/Documents/GitWork/Vercel_2/index.html'"
      ]
     },
     "execution_count": 8,
     "metadata": {},
     "output_type": "execute_result"
    }
   ],
   "source": [
    "from bokeh.models import ColumnDataSource, DataTable, TableColumn, InlineStyleSheet\n",
    "from bokeh.plotting import save, output_file\n",
    "\n",
    "# Define custom CSS for the DataTable\n",
    "table_style = InlineStyleSheet(css=\"\"\"\n",
    "    .slick-header-column {\n",
    "        font-size: 16px; /* Larger font size */\n",
    "        font-weight: bold; /* Bold font */\n",
    "        color: #333333; /* Optional: Adjust the color as needed */\n",
    "    }\n",
    "\"\"\")\n",
    "\n",
    "# Apply the custom styles to the DataTable\n",
    "data_table1.stylesheets = [table_style]\n",
    "\n",
    "# Output file path\n",
    "output_file(\"/Users/loucap/Documents/GitWork/Vercel_2/index.html\")\n",
    "\n",
    "# Save the DataTable with the custom styles applied\n",
    "save(data_table1)\n"
   ]
  },
  {
   "cell_type": "markdown",
   "id": "077f181e",
   "metadata": {},
   "source": [
    "# Create Bokeh HTML output file"
   ]
  },
  {
   "cell_type": "code",
   "execution_count": 9,
   "id": "28c72663",
   "metadata": {},
   "outputs": [],
   "source": [
    "show(data_table1)"
   ]
  }
 ],
 "metadata": {
  "kernelspec": {
   "display_name": "Python 3 (ipykernel)",
   "language": "python",
   "name": "python3"
  },
  "language_info": {
   "codemirror_mode": {
    "name": "ipython",
    "version": 3
   },
   "file_extension": ".py",
   "mimetype": "text/x-python",
   "name": "python",
   "nbconvert_exporter": "python",
   "pygments_lexer": "ipython3",
   "version": "3.8.18"
  },
  "toc": {
   "base_numbering": 1,
   "nav_menu": {},
   "number_sections": true,
   "sideBar": true,
   "skip_h1_title": false,
   "title_cell": "Table of Contents",
   "title_sidebar": "Contents",
   "toc_cell": false,
   "toc_position": {},
   "toc_section_display": true,
   "toc_window_display": true
  },
  "varInspector": {
   "cols": {
    "lenName": 16,
    "lenType": 16,
    "lenVar": 40
   },
   "kernels_config": {
    "python": {
     "delete_cmd_postfix": "",
     "delete_cmd_prefix": "del ",
     "library": "var_list.py",
     "varRefreshCmd": "print(var_dic_list())"
    },
    "r": {
     "delete_cmd_postfix": ") ",
     "delete_cmd_prefix": "rm(",
     "library": "var_list.r",
     "varRefreshCmd": "cat(var_dic_list()) "
    }
   },
   "types_to_exclude": [
    "module",
    "function",
    "builtin_function_or_method",
    "instance",
    "_Feature"
   ],
   "window_display": false
  }
 },
 "nbformat": 4,
 "nbformat_minor": 5
}
